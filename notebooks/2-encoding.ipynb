{
 "cells": [
  {
   "cell_type": "code",
   "execution_count": 2,
   "metadata": {},
   "outputs": [],
   "source": [
    "DATASET = \"../artifacts/derived/first_essay_set/dataset.parquet\""
   ]
  },
  {
   "cell_type": "code",
   "execution_count": 3,
   "metadata": {},
   "outputs": [],
   "source": [
    "import sys\n",
    "sys.path.append(\"../\")\n",
    "\n",
    "from scorer.data import FirstEssaySetDataset, TextCleaner\n",
    "from torch.utils.data import DataLoader, Dataset"
   ]
  },
  {
   "cell_type": "code",
   "execution_count": 4,
   "metadata": {},
   "outputs": [],
   "source": [
    "dataset = FirstEssaySetDataset(DATASET, TextCleaner())"
   ]
  },
  {
   "cell_type": "code",
   "execution_count": 9,
   "metadata": {},
   "outputs": [],
   "source": [
    "loader = DataLoader(dataset, batch_size=1, shuffle=True)"
   ]
  },
  {
   "cell_type": "code",
   "execution_count": 28,
   "metadata": {},
   "outputs": [],
   "source": [
    "import math\n",
    "\n",
    "class TfidfVectorizer:\n",
    "    def __init__(self) -> None:\n",
    "        self.word_inverse_document_frequency = {}\n",
    "\n",
    "    def fit(self, documents: list[str]) -> None:\n",
    "        n_documents = len(documents)\n",
    "        self._init_word_inverse_document_frequency(documents)\n",
    "        for term, count in self.word_inverse_document_frequency.items():\n",
    "            self.word_inverse_document_frequency[term] = math.log(n_documents / count)\n",
    "    \n",
    "    def _init_word_inverse_document_frequency(self, documents: list[str]):\n",
    "        for document in documents:\n",
    "            seen = set()\n",
    "            for term in document.split():\n",
    "                if term not in seen:\n",
    "                    self.word_inverse_document_frequency.setdefault(term, 0)\n",
    "                    self.word_inverse_document_frequency[term] += 1\n",
    "                    seen.add(term)\n",
    "\n",
    "    def encode(self, documents: list[str]) -> list[list[float]]:\n",
    "        encodings = []\n",
    "        for document in documents:\n",
    "            encoded_document = []\n",
    "            for term in document.split():\n",
    "                encoded_term = self.word_inverse_document_frequency[term]\n",
    "                encoded_document.append(encoded_term)\n",
    "            encodings.append(encoded_document)\n",
    "        return encodings"
   ]
  },
  {
   "cell_type": "code",
   "execution_count": 29,
   "metadata": {},
   "outputs": [
    {
     "data": {
      "text/plain": [
       "1783"
      ]
     },
     "execution_count": 29,
     "metadata": {},
     "output_type": "execute_result"
    }
   ],
   "source": [
    "corpus = [data[0][0] for data in loader]\n",
    "len(corpus)"
   ]
  },
  {
   "cell_type": "code",
   "execution_count": 30,
   "metadata": {},
   "outputs": [],
   "source": [
    "vectorizer = TfidfVectorizer()\n",
    "vectorizer.fit(corpus)"
   ]
  },
  {
   "cell_type": "code",
   "execution_count": 33,
   "metadata": {},
   "outputs": [],
   "source": [
    "output = vectorizer.encode([corpus[0]])"
   ]
  },
  {
   "cell_type": "code",
   "execution_count": null,
   "metadata": {},
   "outputs": [],
   "source": []
  }
 ],
 "metadata": {
  "kernelspec": {
   "display_name": "automated-essay-scorer",
   "language": "python",
   "name": "python3"
  },
  "language_info": {
   "codemirror_mode": {
    "name": "ipython",
    "version": 3
   },
   "file_extension": ".py",
   "mimetype": "text/x-python",
   "name": "python",
   "nbconvert_exporter": "python",
   "pygments_lexer": "ipython3",
   "version": "3.11.2"
  },
  "orig_nbformat": 4
 },
 "nbformat": 4,
 "nbformat_minor": 2
}
